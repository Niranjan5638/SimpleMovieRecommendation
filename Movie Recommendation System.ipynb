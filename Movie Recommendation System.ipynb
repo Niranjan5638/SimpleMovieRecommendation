{
 "cells": [
  {
   "cell_type": "code",
   "execution_count": 1,
   "id": "f59a23a6-ea98-4206-93bd-d5273cc1b1fb",
   "metadata": {},
   "outputs": [],
   "source": [
    "import pandas as pd\n",
    "from sklearn.feature_extraction.text import TfidfVectorizer\n",
    "from sklearn.metrics.pairwise import linear_kernel"
   ]
  },
  {
   "cell_type": "code",
   "execution_count": 2,
   "id": "f7d2b113-837b-4286-8362-46a3ff009c6a",
   "metadata": {},
   "outputs": [],
   "source": [
    "# Load the dataset\n",
    "movies_df = pd.read_csv('Movies.csv')"
   ]
  },
  {
   "cell_type": "code",
   "execution_count": 3,
   "id": "0bbdb094-9ef5-4969-bbc5-1629bb94bdbf",
   "metadata": {},
   "outputs": [
    {
     "name": "stderr",
     "output_type": "stream",
     "text": [
      "C:\\Users\\Niranjan Rao Cheruku\\AppData\\Local\\Temp\\ipykernel_19900\\2231071483.py:9: FutureWarning: Setting an item of incompatible dtype is deprecated and will raise an error in a future version of pandas. Value '' has dtype incompatible with float64, please explicitly cast to a compatible dtype first.\n",
      "  movies_df.fillna('', inplace=True)\n"
     ]
    }
   ],
   "source": [
    "# Data Preprocessing\n",
    "# Remove the unnamed column\n",
    "movies_df = movies_df.drop(columns=['Unnamed: 0'], errors='ignore')\n",
    "# Filter for English language movies\n",
    "movies_df = movies_df[movies_df['original_language'] == 'en'].copy()\n",
    "# Remove the overview and tagline columns\n",
    "movies_df = movies_df.drop(columns=['overview', 'tagline'])\n",
    "# Handle missing values (you might want to explore more sophisticated imputation)\n",
    "movies_df.fillna('', inplace=True)"
   ]
  },
  {
   "cell_type": "code",
   "execution_count": 4,
   "id": "1ad0a0f7-534b-4ba7-b30a-431934872b76",
   "metadata": {},
   "outputs": [],
   "source": [
    "# Feature Engineering: Combine relevant text features\n",
    "movies_df['combined_features'] = movies_df['original_title'] + ' ' + movies_df['genre'].apply(lambda x: ' '.join(eval(x)))"
   ]
  },
  {
   "cell_type": "code",
   "execution_count": 5,
   "id": "19a8a91a-425a-4b4a-aa94-7551065931eb",
   "metadata": {},
   "outputs": [],
   "source": [
    "# Text Vectorization using TF-IDF\n",
    "tfidf = TfidfVectorizer(stop_words='english')\n",
    "tfidf_matrix = tfidf.fit_transform(movies_df['combined_features'])"
   ]
  },
  {
   "cell_type": "code",
   "execution_count": 6,
   "id": "10c4eba2-317f-444f-879d-7cd4fdf8641e",
   "metadata": {},
   "outputs": [],
   "source": [
    "# Compute the cosine similarity matrix\n",
    "cosine_sim = linear_kernel(tfidf_matrix, tfidf_matrix)"
   ]
  },
  {
   "cell_type": "code",
   "execution_count": 7,
   "id": "97e5562f-a74e-46da-927a-4f0668778b1e",
   "metadata": {},
   "outputs": [],
   "source": [
    "# Create a reverse mapping of movie titles to indices\n",
    "indices = pd.Series(movies_df.index, index=movies_df['original_title']).drop_duplicates()"
   ]
  },
  {
   "cell_type": "code",
   "execution_count": 8,
   "id": "cf33ad59-b367-4fe9-bd05-853747b509a3",
   "metadata": {},
   "outputs": [],
   "source": [
    "def get_recommendations(title, cosine_sim=cosine_sim, movies_df=movies_df, indices=indices):\n",
    "    try:\n",
    "        # Get the index of the movie that matches the title\n",
    "        idx = indices[title]\n",
    "\n",
    "        # Get the pairwise similarity scores of all movies with that movie\n",
    "        sim_scores = list(enumerate(cosine_sim[idx]))\n",
    "\n",
    "        # Sort the movies based on the similarity scores\n",
    "        sim_scores = sorted(sim_scores, key=lambda x: x[1], reverse=True)\n",
    "\n",
    "        # Get the scores of the 10 most similar movies\n",
    "        sim_scores = sim_scores[1:11]  # Exclude the input movie itself\n",
    "\n",
    "        # Get the movie indices\n",
    "        movie_indices = [i[0] for i in sim_scores]\n",
    "\n",
    "        # Return the top 10 most similar movies\n",
    "        recommendations_df = movies_df[['original_title', 'vote_average', 'vote_count']].iloc[movie_indices]\n",
    "        return recommendations_df\n",
    "    except KeyError:\n",
    "        print(f\"Error: Movie '{title}' not found in the dataset.\")\n",
    "        return None"
   ]
  },
  {
   "cell_type": "code",
   "execution_count": 9,
   "id": "18f55751-d97e-42c3-9c82-2951beab8163",
   "metadata": {},
   "outputs": [
    {
     "name": "stdout",
     "output_type": "stream",
     "text": [
      "Recommendations for 'Avatar':\n",
      "                           original_title  vote_average  vote_count\n",
      "175              The Amazing Spider-Man 2           6.4      9866.0\n",
      "3210               The Amazing Spider-Man           5.4        67.0\n",
      "140                          Spider-Man 3           6.3     10473.0\n",
      "1163                         Spider-Man 2           7.1     11527.0\n",
      "3948     Spider-Man 2: Making the Amazing           6.5        29.0\n",
      "186                            Spider-Man           7.2     14296.0\n",
      "252     Spider-Man: Into the Spider-Verse           8.4     10126.0\n",
      "861   Spider-Man: Across the Spider-Verse           0.0         0.0\n",
      "5632              Spider-Man Strikes Back           5.2        30.0\n",
      "9113                         Amazing Love           7.3        13.0\n"
     ]
    }
   ],
   "source": [
    "# Example Usage\n",
    "movie_title = \"Avatar\"\n",
    "recommendations = get_recommendations(movie_title)\n",
    "\n",
    "if recommendations is not None:\n",
    "    print(f\"Recommendations for '{movie_title}':\")\n",
    "    print(recommendations)"
   ]
  },
  {
   "cell_type": "code",
   "execution_count": null,
   "id": "ce729d7c-ae42-4b6e-84ce-890d4d851feb",
   "metadata": {},
   "outputs": [],
   "source": []
  }
 ],
 "metadata": {
  "kernelspec": {
   "display_name": "Python 3 (ipykernel)",
   "language": "python",
   "name": "python3"
  },
  "language_info": {
   "codemirror_mode": {
    "name": "ipython",
    "version": 3
   },
   "file_extension": ".py",
   "mimetype": "text/x-python",
   "name": "python",
   "nbconvert_exporter": "python",
   "pygments_lexer": "ipython3",
   "version": "3.10.11"
  }
 },
 "nbformat": 4,
 "nbformat_minor": 5
}
